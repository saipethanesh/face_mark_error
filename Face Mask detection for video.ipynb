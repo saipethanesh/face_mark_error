{
 "cells": [
  {
   "cell_type": "code",
   "execution_count": 2,
   "id": "760e58f8-a480-4611-93b7-bd7d3d5f4f70",
   "metadata": {},
   "outputs": [
    {
     "name": "stdout",
     "output_type": "stream",
     "text": [
      "Collecting imutils\n",
      "  Using cached imutils-0.5.4-py3-none-any.whl\n",
      "Installing collected packages: imutils\n",
      "Successfully installed imutils-0.5.4\n"
     ]
    }
   ],
   "source": [
    "!pip install imutils"
   ]
  },
  {
   "cell_type": "code",
   "execution_count": 3,
   "id": "3ebd0cc3",
   "metadata": {},
   "outputs": [],
   "source": [
    "# python detect_mask_video.py\n",
    "\n",
    "# import the necessary packages\n",
    "from tensorflow.keras.applications.mobilenet_v2 import preprocess_input\n",
    "from tensorflow.keras.preprocessing.image import img_to_array\n",
    "from tensorflow.keras.models import load_model\n",
    "from imutils.video import VideoStream\n",
    "import numpy as np\n",
    "import argparse\n",
    "import imutils\n",
    "import time\n",
    "import cv2\n",
    "import os"
   ]
  },
  {
   "cell_type": "code",
   "execution_count": 4,
   "id": "8fa56e68",
   "metadata": {},
   "outputs": [],
   "source": [
    "# to capture the image \n",
    "def detect_and_predict_mask(frame,faceNet,maskNet):\n",
    "    # to get the dimension of the frame and to construct the blob\n",
    "    (h,w)= frame.shape[:2]\n",
    "    blob = cv2.dnn.blobFromImage(frame,1.0,(300,300),\n",
    "                                 (104.0,177.0,123.0))\n",
    "    \n",
    "    #pass the blob through model and detect the face using faceNet\n",
    "    faceNet.setInput(blob)\n",
    "    detections = faceNet.forward()\n",
    "    \n",
    "    #initialize the list of face and the corresponding locatins and the list of predicitons from our face mask model\n",
    "    \n",
    "    faces =[]\n",
    "    locs =[]\n",
    "    preds =[]\n",
    "    \n",
    "    # loop over detections\n",
    "    for i in range(0,detections.shape[2]):\n",
    "        # extract the probability\n",
    "        confidence = detections[0,0,i,2]\n",
    "        \n",
    "        #filter out weak detections by ensuring the confidence/probability value\n",
    "        # (i.e) the confidence value is greater than the min conf value\n",
    "        \n",
    "        if confidence>args['confidence']:\n",
    "            #compute the x and y coordinates of bounding box \n",
    "            \n",
    "            box = detections[0,0,i,3:7]*np.array([w,h,w,h])\n",
    "            (startX,startY,endX,endY)=box.astype(\"int\")\n",
    "            \n",
    "            #ensure the box falls within the face dim\n",
    "            (startX,startY) =(max(0,startX),max(0,startY))\n",
    "            (endX,endY) = (min(w-1,endX),min(h-1,endY))\n",
    "            face = frame[startY:endY,startX:endX]\n",
    "\n",
    "            # Debugging statements\n",
    "            print(f\"Detection {i}: confidence={confidence}\")\n",
    "            print(f\"Bounding box: startX={startX}, startY={startY}, endX={endX}, endY={endY}\")\n",
    "            print(f\"Face shape: {face.shape}\")\n",
    "\n",
    "            if face.size == 0:\n",
    "                print(\"Empty face image detected, skipping...\")\n",
    "                continue\n",
    "            \n",
    "            #extract the face ROI, convert it to BGR to RGB channel ordering, resize it to 224x224, and preprocess it\n",
    "            # face = frame[startY:endY,startX:endX]\n",
    "            face = cv2.cvtColor(face, cv2.COLOR_BGR2RGB)\n",
    "            face = cv2.resize(face,(224,224))\n",
    "            face = img_to_array(face)\n",
    "            face = preprocess_input(face)\n",
    "            \n",
    "            # add the face and bounding box to the respective list\n",
    "            faces.append(face)\n",
    "            locs.append((startX,startY,endX,endY))\n",
    "            \n",
    "    # to give a condition to predict atleast one face was detected\n",
    "    if len(faces)>0:\n",
    "# for faster inference we'll make batch predictions on *all*\n",
    "# faces at the same time rather than one-by-one predictions\n",
    "# in the above `for` loop\n",
    "        faces = np.array(faces,dtype ='float32')\n",
    "        preds = maskNet.predict(faces,batch_size = 32)\n",
    "        \n",
    "    return (locs,preds)\n",
    "        \n"
   ]
  },
  {
   "cell_type": "code",
   "execution_count": 5,
   "id": "91b513c5",
   "metadata": {},
   "outputs": [
    {
     "name": "stdout",
     "output_type": "stream",
     "text": [
      "Prototxt path: C:\\HOPE\\Deep Learning\\Face Mask Dectection\\face_detector\\deploy.prototxt\n",
      "Weights path: C:\\HOPE\\Deep Learning\\Face Mask Dectection\\face_detector\\res10_300x300_ssd_iter_140000.caffemodel\n",
      "Error: C:\\HOPE\\Deep Learning\\Face Mask Dectection\\face_detector\\deploy.prototxt not found.\n",
      "Error: C:\\HOPE\\Deep Learning\\Face Mask Dectection\\face_detector\\res10_300x300_ssd_iter_140000.caffemodel not found.\n"
     ]
    },
    {
     "ename": "error",
     "evalue": "OpenCV(4.10.0) D:\\a\\opencv-python\\opencv-python\\opencv\\modules\\dnn\\src\\caffe\\caffe_io.cpp:1126: error: (-2:Unspecified error) FAILED: fs.is_open(). Can't open \"C:\\HOPE\\Deep Learning\\Face Mask Dectection\\face_detector\\deploy.prototxt\" in function 'cv::dnn::ReadProtoFromTextFile'\n",
     "output_type": "error",
     "traceback": [
      "\u001b[1;31m---------------------------------------------------------------------------\u001b[0m",
      "\u001b[1;31merror\u001b[0m                                     Traceback (most recent call last)",
      "Cell \u001b[1;32mIn[5], line 23\u001b[0m\n\u001b[0;32m     20\u001b[0m \u001b[38;5;28;01mif\u001b[39;00m \u001b[38;5;129;01mnot\u001b[39;00m os\u001b[38;5;241m.\u001b[39mpath\u001b[38;5;241m.\u001b[39mexists(weightsPath):\n\u001b[0;32m     21\u001b[0m     \u001b[38;5;28mprint\u001b[39m(\u001b[38;5;124mf\u001b[39m\u001b[38;5;124m\"\u001b[39m\u001b[38;5;124mError: \u001b[39m\u001b[38;5;132;01m{\u001b[39;00mweightsPath\u001b[38;5;132;01m}\u001b[39;00m\u001b[38;5;124m not found.\u001b[39m\u001b[38;5;124m\"\u001b[39m)\n\u001b[1;32m---> 23\u001b[0m faceNet \u001b[38;5;241m=\u001b[39m cv2\u001b[38;5;241m.\u001b[39mdnn\u001b[38;5;241m.\u001b[39mreadNet(prototxtPath, weightsPath)\n",
      "\u001b[1;31merror\u001b[0m: OpenCV(4.10.0) D:\\a\\opencv-python\\opencv-python\\opencv\\modules\\dnn\\src\\caffe\\caffe_io.cpp:1126: error: (-2:Unspecified error) FAILED: fs.is_open(). Can't open \"C:\\HOPE\\Deep Learning\\Face Mask Dectection\\face_detector\\deploy.prototxt\" in function 'cv::dnn::ReadProtoFromTextFile'\n"
     ]
    }
   ],
   "source": [
    "# construct the argument parser and parse the arguments\n",
    "# Construct the argument parser and parse the arguments\n",
    "ap = argparse.ArgumentParser()\n",
    "ap.add_argument(\"-f\", \"--face\", type=str, default=\"face_detector\", help=\"path to face detector model directory\")\n",
    "ap.add_argument(\"-m\", \"--model\", type=str, default=\"mask_detector.h5\", help=\"path to trained face mask detector model\")\n",
    "ap.add_argument(\"-c\", \"--confidence\", type=float, default=0.5, help=\"minimum probability to filter weak detections\")\n",
    "args = vars(ap.parse_args())\n",
    "\n",
    "# Construct the absolute paths to the model files\n",
    "project_root = os.path.abspath(os.path.dirname(r\"C:\\HOPE\\Deep Learning\\Face Mask Dectection\\face_detector\"))\n",
    "face_detector_directory = os.path.join(project_root, 'face_detector')\n",
    "prototxtPath = os.path.join(face_detector_directory, \"deploy.prototxt\")\n",
    "weightsPath = os.path.join(face_detector_directory, \"res10_300x300_ssd_iter_140000.caffemodel\")\n",
    "\n",
    "print(f\"Prototxt path: {prototxtPath}\")\n",
    "print(f\"Weights path: {weightsPath}\")\n",
    "\n",
    "if not os.path.exists(prototxtPath):\n",
    "    print(f\"Error: {prototxtPath} not found.\")\n",
    "if not os.path.exists(weightsPath):\n",
    "    print(f\"Error: {weightsPath} not found.\")\n",
    "\n",
    "faceNet = cv2.dnn.readNet(prototxtPath, weightsPath)\n",
    "\n"
   ]
  },
  {
   "cell_type": "code",
   "execution_count": null,
   "id": "df553c1d",
   "metadata": {},
   "outputs": [],
   "source": [
    "# Load the face mask detector model from disk\n",
    "print(\"[INFO] loading face mask detector model...\")\n",
    "maskNet = load_model(args[\"model\"])\n"
   ]
  },
  {
   "cell_type": "code",
   "execution_count": null,
   "id": "e7e97d90",
   "metadata": {},
   "outputs": [],
   "source": [
    "# initialize the video stream and allow the camera sensor to warm up\n",
    "print(\"[INFO] starting video stream...\")\n",
    "vs = VideoStream(src=0).start()\n",
    "time.sleep(2.0)\n",
    "\n"
   ]
  },
  {
   "cell_type": "code",
   "execution_count": null,
   "id": "e3a644e8",
   "metadata": {},
   "outputs": [],
   "source": [
    "# loop over the frames from the video stream\n",
    "while True:\n",
    "    # grab the frame from the threaded video stream and resize it\n",
    "    # to have a maximum width of 400 pixels\n",
    "    frame = vs.read()\n",
    "    frame = imutils.resize(frame, width=400)\n",
    "\n",
    "    # detect faces in the frame and determine if they are wearing a\n",
    "    # face mask or not\n",
    "    (locs, preds) = detect_and_predict_mask(frame, faceNet, maskNet)\n",
    "\n",
    "    # loop over the detected face locations and their corresponding\n",
    "    # locations\n",
    "    for (box, pred) in zip(locs, preds):\n",
    "        # unpack the bounding box and predictions\n",
    "        (startX, startY, endX, endY) = box\n",
    "        (mask, withoutMask) = pred\n",
    "\n",
    "        # determine the class label and color we'll use to draw\n",
    "        # the bounding box and text\n",
    "        label = \"Mask\" if mask > withoutMask else \"No Mask\"\n",
    "        color = (0, 255, 0) if label == \"Mask\" else (0, 0, 255)\n",
    "\n",
    "        # include the probability in the label\n",
    "        #label = \"{}: {:.2f}%\".format(label, max(mask, withoutMask) * 100)\n",
    "        \n",
    "        # display the label and bounding box rectangle on the output\n",
    "        # frame\n",
    "        if(label==\"Mask\"):    \n",
    "            cv2.putText(frame,\"Mask: You are allowed\", (startX, startY - 10),\n",
    "            cv2.FONT_HERSHEY_SIMPLEX, 0.45, color, 2)\n",
    "            cv2.rectangle(frame, (startX, startY), (endX, endY), color, 2)\n",
    "        elif(label==\"No Mask\"):\n",
    "            lab=\"No Mask: You are not allowed\"\n",
    "            cv2.putText(frame, lab, (startX, startY - 10),\n",
    "            cv2.FONT_HERSHEY_SIMPLEX, 0.45, color, 2)\n",
    "            cv2.rectangle(frame, (startX, startY), (endX, endY), color, 2)\n",
    "\n",
    "    # show the output frame\n",
    "    cv2.imshow(\"Frame\", frame)\n",
    "    key = cv2.waitKey(1) & 0xFF\n",
    "\n",
    "    # if the `q` key was pressed, break from the loop\n",
    "    if key == ord(\"q\"):\n",
    "        break\n",
    "\n",
    "# do a bit of cleanup\n",
    "cv2.destroyAllWindows()\n",
    "\n",
    "vs.release()"
   ]
  },
  {
   "cell_type": "code",
   "execution_count": null,
   "id": "5e2e91d2",
   "metadata": {},
   "outputs": [],
   "source": [
    "\n"
   ]
  },
  {
   "cell_type": "code",
   "execution_count": null,
   "id": "8c13d68c-3a91-4475-b149-a61eb9d9943b",
   "metadata": {},
   "outputs": [],
   "source": []
  }
 ],
 "metadata": {
  "kernelspec": {
   "display_name": "Python 3 (ipykernel)",
   "language": "python",
   "name": "python3"
  },
  "language_info": {
   "codemirror_mode": {
    "name": "ipython",
    "version": 3
   },
   "file_extension": ".py",
   "mimetype": "text/x-python",
   "name": "python",
   "nbconvert_exporter": "python",
   "pygments_lexer": "ipython3",
   "version": "3.12.4"
  }
 },
 "nbformat": 4,
 "nbformat_minor": 5
}
