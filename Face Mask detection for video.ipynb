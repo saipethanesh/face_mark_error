{
 "cells": [
  {
   "cell_type": "code",
   "execution_count": null,
   "id": "760e58f8-a480-4611-93b7-bd7d3d5f4f70",
   "metadata": {},
   "outputs": [],
   "source": [
    "#!pip install imutils"
   ]
  },
  {
   "cell_type": "code",
   "execution_count": null,
   "id": "8bc4f007-2f32-4484-bbc4-3772a8ad5d36",
   "metadata": {},
   "outputs": [],
   "source": [
    "#!pip install --upgrade protobuf"
   ]
  },
  {
   "cell_type": "code",
   "execution_count": 2,
   "id": "c090129f-0466-483e-b7fd-275ace906276",
   "metadata": {},
   "outputs": [
    {
     "name": "stderr",
     "output_type": "stream",
     "text": [
      "ERROR: Could not find a version that satisfies the requirement tensorflow-keras (from versions: none)\n",
      "ERROR: No matching distribution found for tensorflow-keras\n"
     ]
    }
   ],
   "source": [
    "!pip install tensorflow-keras\n"
   ]
  },
  {
   "cell_type": "code",
   "execution_count": 1,
   "id": "3ebd0cc3",
   "metadata": {},
   "outputs": [
    {
     "ename": "ModuleNotFoundError",
     "evalue": "No module named 'tensorflow.keras'",
     "output_type": "error",
     "traceback": [
      "\u001b[1;31m---------------------------------------------------------------------------\u001b[0m",
      "\u001b[1;31mModuleNotFoundError\u001b[0m                       Traceback (most recent call last)",
      "Cell \u001b[1;32mIn[1], line 4\u001b[0m\n\u001b[0;32m      1\u001b[0m \u001b[38;5;66;03m# python detect_mask_video.py\u001b[39;00m\n\u001b[0;32m      2\u001b[0m \n\u001b[0;32m      3\u001b[0m \u001b[38;5;66;03m# import the necessary packages\u001b[39;00m\n\u001b[1;32m----> 4\u001b[0m \u001b[38;5;28;01mfrom\u001b[39;00m \u001b[38;5;21;01mtensorflow\u001b[39;00m\u001b[38;5;21;01m.\u001b[39;00m\u001b[38;5;21;01mkeras\u001b[39;00m\u001b[38;5;21;01m.\u001b[39;00m\u001b[38;5;21;01mapplications\u001b[39;00m\u001b[38;5;21;01m.\u001b[39;00m\u001b[38;5;21;01mmobilenet_v2\u001b[39;00m \u001b[38;5;28;01mimport\u001b[39;00m preprocess_input\n\u001b[0;32m      5\u001b[0m \u001b[38;5;28;01mfrom\u001b[39;00m \u001b[38;5;21;01mtensorflow\u001b[39;00m\u001b[38;5;21;01m.\u001b[39;00m\u001b[38;5;21;01mkeras\u001b[39;00m\u001b[38;5;21;01m.\u001b[39;00m\u001b[38;5;21;01mpreprocessing\u001b[39;00m\u001b[38;5;21;01m.\u001b[39;00m\u001b[38;5;21;01mimage\u001b[39;00m \u001b[38;5;28;01mimport\u001b[39;00m img_to_array\n\u001b[0;32m      6\u001b[0m \u001b[38;5;28;01mfrom\u001b[39;00m \u001b[38;5;21;01mtensorflow\u001b[39;00m\u001b[38;5;21;01m.\u001b[39;00m\u001b[38;5;21;01mkeras\u001b[39;00m\u001b[38;5;21;01m.\u001b[39;00m\u001b[38;5;21;01mmodels\u001b[39;00m \u001b[38;5;28;01mimport\u001b[39;00m load_model\n",
      "\u001b[1;31mModuleNotFoundError\u001b[0m: No module named 'tensorflow.keras'"
     ]
    }
   ],
   "source": [
    "# python detect_mask_video.py\n",
    "\n",
    "# import the necessary packages\n",
    "from tensorflow.keras.applications.mobilenet_v2 import preprocess_input\n",
    "from tensorflow.keras.preprocessing.image import img_to_array\n",
    "from tensorflow.keras.models import load_model\n",
    "from tensorflow.keras.models import load_model\n",
    "from imutils.video import VideoStream\n",
    "import tensorflow as tf\n",
    "from tensorflow import keras\n",
    "import numpy as np\n",
    "import argparse\n",
    "import imutils\n",
    "import time\n",
    "import cv2\n",
    "import os"
   ]
  },
  {
   "cell_type": "code",
   "execution_count": null,
   "id": "8fa56e68",
   "metadata": {},
   "outputs": [],
   "source": [
    "# to capture the image \n",
    "def detect_and_predict_mask(frame,faceNet,maskNet):\n",
    "    # to get the dimension of the frame and to construct the blob\n",
    "    (h,w)= frame.shape[:2]\n",
    "    blob = cv2.dnn.blobFromImage(frame,1.0,(300,300),\n",
    "                                 (104.0,177.0,123.0))\n",
    "    \n",
    "    #pass the blob through model and detect the face using faceNet\n",
    "    faceNet.setInput(blob)\n",
    "    detections = faceNet.forward()\n",
    "    \n",
    "    #initialize the list of face and the corresponding locatins and the list of predicitons from our face mask model\n",
    "    \n",
    "    faces =[]\n",
    "    locs =[]\n",
    "    preds =[]\n",
    "    \n",
    "    # loop over detections\n",
    "    for i in range(0,detections.shape[2]):\n",
    "        # extract the probability\n",
    "        confidence = detections[0,0,i,2]\n",
    "        \n",
    "        #filter out weak detections by ensuring the confidence/probability value\n",
    "        # (i.e) the confidence value is greater than the min conf value\n",
    "        \n",
    "        if confidence>args['confidence']:\n",
    "            #compute the x and y coordinates of bounding box \n",
    "            \n",
    "            box = detections[0,0,i,3:7]*np.array([w,h,w,h])\n",
    "            (startX,startY,endX,endY)=box.astype(\"int\")\n",
    "            \n",
    "            #ensure the box falls within the face dim\n",
    "            (startX,startY) =(max(0,startX),max(0,startY))\n",
    "            (endX,endY) = (min(w-1,endX),min(h-1,endY))\n",
    "            face = frame[startY:endY,startX:endX]\n",
    "\n",
    "            # Debugging statements\n",
    "            print(f\"Detection {i}: confidence={confidence}\")\n",
    "            print(f\"Bounding box: startX={startX}, startY={startY}, endX={endX}, endY={endY}\")\n",
    "            print(f\"Face shape: {face.shape}\")\n",
    "\n",
    "            if face.size == 0:\n",
    "                print(\"Empty face image detected, skipping...\")\n",
    "                continue\n",
    "            \n",
    "            #extract the face ROI, convert it to BGR to RGB channel ordering, resize it to 224x224, and preprocess it\n",
    "            # face = frame[startY:endY,startX:endX]\n",
    "            face = cv2.cvtColor(face, cv2.COLOR_BGR2RGB)\n",
    "            face = cv2.resize(face,(224,224))\n",
    "            face = img_to_array(face)\n",
    "            face = preprocess_input(face)\n",
    "            \n",
    "            # add the face and bounding box to the respective list\n",
    "            faces.append(face)\n",
    "            locs.append((startX,startY,endX,endY))\n",
    "            \n",
    "    # to give a condition to predict atleast one face was detected\n",
    "    if len(faces)>0:\n",
    "# for faster inference we'll make batch predictions on *all*\n",
    "# faces at the same time rather than one-by-one predictions\n",
    "# in the above `for` loop\n",
    "        faces = np.array(faces,dtype ='float32')\n",
    "        preds = maskNet.predict(faces,batch_size = 32)\n",
    "        \n",
    "    return (locs,preds)\n",
    "        \n"
   ]
  },
  {
   "cell_type": "code",
   "execution_count": null,
   "id": "91b513c5",
   "metadata": {},
   "outputs": [],
   "source": [
    "# construct the argument parser and parse the arguments\n",
    "# Construct the argument parser and parse the arguments\n",
    "ap = argparse.ArgumentParser()\n",
    "ap.add_argument(\"-f\", \"--face\", type=str, default=\"face_detector\", help=\"path to face detector model directory\")\n",
    "ap.add_argument(\"-m\", \"--model\", type=str, default=\"mask_detector.h5\", help=\"path to trained face mask detector model\")\n",
    "ap.add_argument(\"-c\", \"--confidence\", type=float, default=0.5, help=\"minimum probability to filter weak detections\")\n",
    "args = vars(ap.parse_args())\n",
    "\n",
    "# Construct the absolute paths to the model files\n",
    "project_root = os.path.abspath(os.path.dirname(r\"E:\\face mask detection\\face_detector\"))\n",
    "face_detector_directory = os.path.join(project_root, 'face_detector')\n",
    "prototxtPath = os.path.join(face_detector_directory, \"deploy.prototxt\")\n",
    "weightsPath = os.path.join(face_detector_directory, \"res10_300x300_ssd_iter_140000.caffemodel\")\n",
    "\n",
    "print(f\"Prototxt path: {prototxtPath}\")\n",
    "print(f\"Weights path: {weightsPath}\")\n",
    "\n",
    "if not os.path.exists(prototxtPath):\n",
    "    print(f\"Error: {prototxtPath} not found.\")\n",
    "if not os.path.exists(weightsPath):\n",
    "    print(f\"Error: {weightsPath} not found.\")\n",
    "\n",
    "faceNet = cv2.dnn.readNet(prototxtPath, weightsPath)\n",
    "\n"
   ]
  },
  {
   "cell_type": "code",
   "execution_count": null,
   "id": "03c2817f-c80d-469a-afee-a0f1759613ad",
   "metadata": {},
   "outputs": [],
   "source": [
    "import keras\n",
    "print(keras.__version__)\n"
   ]
  },
  {
   "cell_type": "code",
   "execution_count": null,
   "id": "94ddfbd4-6d60-4b45-92e4-260bb65fa2e2",
   "metadata": {},
   "outputs": [],
   "source": [
    "import tensorflow as tf\n",
    "print(tf.__version__)\n"
   ]
  },
  {
   "cell_type": "code",
   "execution_count": null,
   "id": "df553c1d",
   "metadata": {},
   "outputs": [],
   "source": [
    "# Load the face mask detector model from disk\n",
    "print(\"[INFO] loading face mask detector model...\")\n",
    "maskNet = load_model(args[\"model\"])\n"
   ]
  },
  {
   "cell_type": "code",
   "execution_count": null,
   "id": "e7e97d90",
   "metadata": {},
   "outputs": [],
   "source": [
    "# initialize the video stream and allow the camera sensor to warm up\n",
    "print(\"[INFO] starting video stream...\")\n",
    "vs = VideoStream(src=0).start()\n",
    "time.sleep(2.0)\n",
    "\n"
   ]
  },
  {
   "cell_type": "code",
   "execution_count": null,
   "id": "e3a644e8",
   "metadata": {},
   "outputs": [],
   "source": [
    "# loop over the frames from the video stream\n",
    "while True:\n",
    "    # grab the frame from the threaded video stream and resize it\n",
    "    # to have a maximum width of 400 pixels\n",
    "    frame = vs.read()\n",
    "    frame = imutils.resize(frame, width=400)\n",
    "\n",
    "    # detect faces in the frame and determine if they are wearing a\n",
    "    # face mask or not\n",
    "    (locs, preds) = detect_and_predict_mask(frame, faceNet, maskNet)\n",
    "\n",
    "    # loop over the detected face locations and their corresponding\n",
    "    # locations\n",
    "    for (box, pred) in zip(locs, preds):\n",
    "        # unpack the bounding box and predictions\n",
    "        (startX, startY, endX, endY) = box\n",
    "        (mask, withoutMask) = pred\n",
    "\n",
    "        # determine the class label and color we'll use to draw\n",
    "        # the bounding box and text\n",
    "        label = \"Mask\" if mask > withoutMask else \"No Mask\"\n",
    "        color = (0, 255, 0) if label == \"Mask\" else (0, 0, 255)\n",
    "\n",
    "        # include the probability in the label\n",
    "        #label = \"{}: {:.2f}%\".format(label, max(mask, withoutMask) * 100)\n",
    "        \n",
    "        # display the label and bounding box rectangle on the output\n",
    "        # frame\n",
    "        if(label==\"Mask\"):    \n",
    "            cv2.putText(frame,\"Mask: You are allowed\", (startX, startY - 10),\n",
    "            cv2.FONT_HERSHEY_SIMPLEX, 0.45, color, 2)\n",
    "            cv2.rectangle(frame, (startX, startY), (endX, endY), color, 2)\n",
    "        elif(label==\"No Mask\"):\n",
    "            lab=\"No Mask: You are not allowed\"\n",
    "            cv2.putText(frame, lab, (startX, startY - 10),\n",
    "            cv2.FONT_HERSHEY_SIMPLEX, 0.45, color, 2)\n",
    "            cv2.rectangle(frame, (startX, startY), (endX, endY), color, 2)\n",
    "\n",
    "    # show the output frame\n",
    "    cv2.imshow(\"Frame\", frame)\n",
    "    key = cv2.waitKey(1) & 0xFF\n",
    "\n",
    "    # if the `q` key was pressed, break from the loop\n",
    "    if key == ord(\"q\"):\n",
    "        break\n",
    "\n",
    "# do a bit of cleanup\n",
    "cv2.destroyAllWindows()\n",
    "\n",
    "vs.release()"
   ]
  },
  {
   "cell_type": "code",
   "execution_count": null,
   "id": "5e2e91d2",
   "metadata": {},
   "outputs": [],
   "source": [
    "\n"
   ]
  },
  {
   "cell_type": "code",
   "execution_count": null,
   "id": "8c13d68c-3a91-4475-b149-a61eb9d9943b",
   "metadata": {},
   "outputs": [],
   "source": []
  }
 ],
 "metadata": {
  "kernelspec": {
   "display_name": "Python 3 (ipykernel)",
   "language": "python",
   "name": "python3"
  },
  "language_info": {
   "codemirror_mode": {
    "name": "ipython",
    "version": 3
   },
   "file_extension": ".py",
   "mimetype": "text/x-python",
   "name": "python",
   "nbconvert_exporter": "python",
   "pygments_lexer": "ipython3",
   "version": "3.10.13"
  }
 },
 "nbformat": 4,
 "nbformat_minor": 5
}
